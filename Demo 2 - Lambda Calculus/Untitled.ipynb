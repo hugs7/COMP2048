{
 "cells": [
  {
   "cell_type": "code",
   "execution_count": 1,
   "id": "5a7b26bd",
   "metadata": {},
   "outputs": [
    {
     "ename": "SyntaxError",
     "evalue": "unexpected character after line continuation character (1805294274.py, line 3)",
     "output_type": "error",
     "traceback": [
      "\u001b[1;36m  File \u001b[1;32m\"C:\\Users\\Hugo Burton\\AppData\\Local\\Temp\\ipykernel_16896\\1805294274.py\"\u001b[1;36m, line \u001b[1;32m3\u001b[0m\n\u001b[1;33m    (\\x.\\y.x)(\\x.x)\u001b[0m\n\u001b[1;37m      ^\u001b[0m\n\u001b[1;31mSyntaxError\u001b[0m\u001b[1;31m:\u001b[0m unexpected character after line continuation character\n"
     ]
    }
   ],
   "source": [
    "# Lambda expressions are written with \\ or λ, as in\n",
    "(λx.x)\n",
    "(\\x.\\y.x)(\\x.x)\n",
    "\n",
    "# Libraries included\n",
    "plus 2 3\n",
    "sum (cons 1 (cons 2 (cons 3 nil)))\n",
    "\n",
    "# Change between untyped and simply-typed λ-calculus\n",
    ":types on\n",
    "swap = \\m.(snd m, fst m)\n",
    "swap\n",
    "\n",
    "# Gentzen-style deduction trees\n",
    "@@ \\a.(snd a,fst a)"
   ]
  },
  {
   "cell_type": "code",
   "execution_count": null,
   "id": "466de178",
   "metadata": {},
   "outputs": [],
   "source": [
    "# 1 Numbers 0 through 5\n",
    "# Numbers\n",
    "\\f.\\x.f(x)\n",
    "\\f.\\x.f(f(x))    \n",
    "\\f.\\x.f(f(f(x)))  \n",
    "\\f.\\x.f(f(f(f(x))))   \n",
    "\\f.\\x.f(f(f(f(f(x)))))\n",
    "\n",
    "# Successor function\n",
    "S = \\n.\\f.\\x.f(n(f)(x))\n",
    "S 0\n",
    "S 1\n",
    "S 2\n",
    "S 3\n",
    "S 4\n",
    "\n"
   ]
  },
  {
   "cell_type": "code",
   "execution_count": null,
   "id": "663741c1",
   "metadata": {},
   "outputs": [],
   "source": [
    "# 2 Double, Add, Multiply\n",
    "compose = \\f.\\g.\\x.f (g x)\n",
    "double = \\n.\\s.\\z.n (compose s s) z\n",
    "double 2\n",
    "\n",
    "add = \\m.\\n.\\s.\\z.m (s) (n (s) (z))\n",
    "add 2 4\n",
    "\n",
    "multi = \\m.\\n.\\s.\\z.m (n s) z\n",
    "multi 2 5\n",
    "\n"
   ]
  },
  {
   "cell_type": "code",
   "execution_count": null,
   "id": "27992d03",
   "metadata": {},
   "outputs": [],
   "source": [
    "# 3 True and False\n",
    "T = \\x.\\y.x\n",
    "F = \\x.\\y.y\n",
    "\n",
    "T 2 4\n",
    "\n"
   ]
  },
  {
   "cell_type": "code",
   "execution_count": null,
   "id": "bc3026b2",
   "metadata": {},
   "outputs": [],
   "source": [
    "# 4 AND, OR, and NOT\n",
    "AND = \\p.\\q.PqF\n",
    "AND T F\n",
    "\n",
    "OR = \\p.\\q.pTq\n",
    "OR F T\n",
    "\n",
    "NOT = \\p.pFT\n",
    "NOT F\n",
    "\n"
   ]
  },
  {
   "cell_type": "code",
   "execution_count": null,
   "id": "70a3d12e",
   "metadata": {},
   "outputs": [],
   "source": [
    "# 5 XOR\n",
    "\n",
    "XOR = \\a.\\b.a (b (\\a.\\b.b) (\\a.\\b.a)) b\n",
    "XOR F T\n",
    "XOR T T\n",
    "XOR T F\n",
    "XOR F F\n",
    "XOR T T"
   ]
  },
  {
   "cell_type": "code",
   "execution_count": null,
   "id": "d2036e1c",
   "metadata": {},
   "outputs": [],
   "source": [
    "# 6 Less than or equal to and greater than or equal to\n",
    "\n",
    "(SUB (a b) = (b PRED a))\n",
    "LEQ = \\m.\\n.&\\ (ISZERO\\ (SUB\\ m\\ n))\n",
    "\n"
   ]
  },
  {
   "cell_type": "code",
   "execution_count": null,
   "id": "71aaae86",
   "metadata": {},
   "outputs": [],
   "source": [
    "# 7 Y-combinator in Lambda calculus\n",
    "\n"
   ]
  },
  {
   "cell_type": "code",
   "execution_count": null,
   "id": "408ea8aa",
   "metadata": {},
   "outputs": [],
   "source": [
    "# 8 GCD\n",
    "\n"
   ]
  },
  {
   "cell_type": "code",
   "execution_count": null,
   "id": "d1cd3eb9",
   "metadata": {},
   "outputs": [],
   "source": [
    "# 9 List with indexing\n",
    "\n"
   ]
  }
 ],
 "metadata": {
  "kernelspec": {
   "display_name": "Python 3 (ipykernel)",
   "language": "python",
   "name": "python3"
  },
  "language_info": {
   "codemirror_mode": {
    "name": "ipython",
    "version": 3
   },
   "file_extension": ".py",
   "mimetype": "text/x-python",
   "name": "python",
   "nbconvert_exporter": "python",
   "pygments_lexer": "ipython3",
   "version": "3.9.13"
  }
 },
 "nbformat": 4,
 "nbformat_minor": 5
}
